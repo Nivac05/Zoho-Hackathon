{
  "nbformat": 4,
  "nbformat_minor": 0,
  "metadata": {
    "colab": {
      "provenance": []
    },
    "kernelspec": {
      "name": "python3",
      "display_name": "Python 3"
    },
    "language_info": {
      "name": "python"
    }
  },
  "cells": [
    {
      "cell_type": "code",
      "execution_count": 3,
      "metadata": {
        "colab": {
          "base_uri": "https://localhost:8080/"
        },
        "id": "_soia3Wo5pCU",
        "outputId": "83b2782c-65ce-442d-b795-c2169ebee6e4"
      },
      "outputs": [
        {
          "output_type": "stream",
          "name": "stdout",
          "text": [
            "Lender locations dataset saved at: /content/lender_ev_charging_locations.csv\n"
          ]
        }
      ],
      "source": [
        "\n",
        "import pandas as pd\n",
        "import requests\n",
        "import random\n",
        "\n",
        "# Your GoMaps API Key (Replace with your actual key)\n",
        "API_KEY = \"AlzaSyy5QgWNXEmenqQTI3pUlnpt0IulSfTvBOO\"\n",
        "\n"
      ]
    },
    {
      "cell_type": "code",
      "source": [
        "import folium\n",
        "\n",
        "\n",
        "map_center = [13.0827, 80.2707]  # Chennai coordinates\n",
        "\n",
        "# Create a map object\n",
        "ev_map = folium.Map(location=map_center, zoom_start=12)\n",
        "\n",
        "# Display the map\n",
        "ev_map\n"
      ],
      "metadata": {
        "colab": {
          "base_uri": "https://localhost:8080/",
          "height": 685
        },
        "id": "-rW9Pa1NCpmK",
        "outputId": "d7efbea1-498d-4e3b-87b5-8441d006e331"
      },
      "execution_count": 4,
      "outputs": [
        {
          "output_type": "execute_result",
          "data": {
            "text/plain": [
              "<folium.folium.Map at 0x7e40dbe0b6d0>"
            ],
            "text/html": [
              "<div style=\"width:100%;\"><div style=\"position:relative;width:100%;height:0;padding-bottom:60%;\"><span style=\"color:#565656\">Make this Notebook Trusted to load map: File -> Trust Notebook</span><iframe srcdoc=\"&lt;!DOCTYPE html&gt;\n",
              "&lt;html&gt;\n",
              "&lt;head&gt;\n",
              "    \n",
              "    &lt;meta http-equiv=&quot;content-type&quot; content=&quot;text/html; charset=UTF-8&quot; /&gt;\n",
              "    \n",
              "        &lt;script&gt;\n",
              "            L_NO_TOUCH = false;\n",
              "            L_DISABLE_3D = false;\n",
              "        &lt;/script&gt;\n",
              "    \n",
              "    &lt;style&gt;html, body {width: 100%;height: 100%;margin: 0;padding: 0;}&lt;/style&gt;\n",
              "    &lt;style&gt;#map {position:absolute;top:0;bottom:0;right:0;left:0;}&lt;/style&gt;\n",
              "    &lt;script src=&quot;https://cdn.jsdelivr.net/npm/leaflet@1.9.3/dist/leaflet.js&quot;&gt;&lt;/script&gt;\n",
              "    &lt;script src=&quot;https://code.jquery.com/jquery-3.7.1.min.js&quot;&gt;&lt;/script&gt;\n",
              "    &lt;script src=&quot;https://cdn.jsdelivr.net/npm/bootstrap@5.2.2/dist/js/bootstrap.bundle.min.js&quot;&gt;&lt;/script&gt;\n",
              "    &lt;script src=&quot;https://cdnjs.cloudflare.com/ajax/libs/Leaflet.awesome-markers/2.0.2/leaflet.awesome-markers.js&quot;&gt;&lt;/script&gt;\n",
              "    &lt;link rel=&quot;stylesheet&quot; href=&quot;https://cdn.jsdelivr.net/npm/leaflet@1.9.3/dist/leaflet.css&quot;/&gt;\n",
              "    &lt;link rel=&quot;stylesheet&quot; href=&quot;https://cdn.jsdelivr.net/npm/bootstrap@5.2.2/dist/css/bootstrap.min.css&quot;/&gt;\n",
              "    &lt;link rel=&quot;stylesheet&quot; href=&quot;https://netdna.bootstrapcdn.com/bootstrap/3.0.0/css/bootstrap-glyphicons.css&quot;/&gt;\n",
              "    &lt;link rel=&quot;stylesheet&quot; href=&quot;https://cdn.jsdelivr.net/npm/@fortawesome/fontawesome-free@6.2.0/css/all.min.css&quot;/&gt;\n",
              "    &lt;link rel=&quot;stylesheet&quot; href=&quot;https://cdnjs.cloudflare.com/ajax/libs/Leaflet.awesome-markers/2.0.2/leaflet.awesome-markers.css&quot;/&gt;\n",
              "    &lt;link rel=&quot;stylesheet&quot; href=&quot;https://cdn.jsdelivr.net/gh/python-visualization/folium/folium/templates/leaflet.awesome.rotate.min.css&quot;/&gt;\n",
              "    \n",
              "            &lt;meta name=&quot;viewport&quot; content=&quot;width=device-width,\n",
              "                initial-scale=1.0, maximum-scale=1.0, user-scalable=no&quot; /&gt;\n",
              "            &lt;style&gt;\n",
              "                #map_1abcf42717952f7347c04eb2e3557808 {\n",
              "                    position: relative;\n",
              "                    width: 100.0%;\n",
              "                    height: 100.0%;\n",
              "                    left: 0.0%;\n",
              "                    top: 0.0%;\n",
              "                }\n",
              "                .leaflet-container { font-size: 1rem; }\n",
              "            &lt;/style&gt;\n",
              "        \n",
              "&lt;/head&gt;\n",
              "&lt;body&gt;\n",
              "    \n",
              "    \n",
              "            &lt;div class=&quot;folium-map&quot; id=&quot;map_1abcf42717952f7347c04eb2e3557808&quot; &gt;&lt;/div&gt;\n",
              "        \n",
              "&lt;/body&gt;\n",
              "&lt;script&gt;\n",
              "    \n",
              "    \n",
              "            var map_1abcf42717952f7347c04eb2e3557808 = L.map(\n",
              "                &quot;map_1abcf42717952f7347c04eb2e3557808&quot;,\n",
              "                {\n",
              "                    center: [13.0827, 80.2707],\n",
              "                    crs: L.CRS.EPSG3857,\n",
              "                    ...{\n",
              "  &quot;zoom&quot;: 12,\n",
              "  &quot;zoomControl&quot;: true,\n",
              "  &quot;preferCanvas&quot;: false,\n",
              "}\n",
              "\n",
              "                }\n",
              "            );\n",
              "\n",
              "            \n",
              "\n",
              "        \n",
              "    \n",
              "            var tile_layer_d71ef05bdc93f9d617cec7ecefefc0e6 = L.tileLayer(\n",
              "                &quot;https://tile.openstreetmap.org/{z}/{x}/{y}.png&quot;,\n",
              "                {\n",
              "  &quot;minZoom&quot;: 0,\n",
              "  &quot;maxZoom&quot;: 19,\n",
              "  &quot;maxNativeZoom&quot;: 19,\n",
              "  &quot;noWrap&quot;: false,\n",
              "  &quot;attribution&quot;: &quot;\\u0026copy; \\u003ca href=\\&quot;https://www.openstreetmap.org/copyright\\&quot;\\u003eOpenStreetMap\\u003c/a\\u003e contributors&quot;,\n",
              "  &quot;subdomains&quot;: &quot;abc&quot;,\n",
              "  &quot;detectRetina&quot;: false,\n",
              "  &quot;tms&quot;: false,\n",
              "  &quot;opacity&quot;: 1,\n",
              "}\n",
              "\n",
              "            );\n",
              "        \n",
              "    \n",
              "            tile_layer_d71ef05bdc93f9d617cec7ecefefc0e6.addTo(map_1abcf42717952f7347c04eb2e3557808);\n",
              "        \n",
              "&lt;/script&gt;\n",
              "&lt;/html&gt;\" style=\"position:absolute;width:100%;height:100%;left:0;top:0;border:none !important;\" allowfullscreen webkitallowfullscreen mozallowfullscreen></iframe></div></div>"
            ]
          },
          "metadata": {},
          "execution_count": 4
        }
      ]
    },
    {
      "cell_type": "code",
      "source": [
        "\n",
        "lender_locations_updated = {\n",
        "    \"ECR, Chennai\": (12.8236, 80.2295, 15),\n",
        "    \"Pammal, Chennai\": (12.9675, 80.1302, 5),\n",
        "    \"Maduravoyal, Chennai\": (13.0601, 80.1651, 3),\n",
        "    \"Medavakkam, Chennai\": (12.9210, 80.1770, 6),\n",
        "    \"Anna Nagar, Chennai\": (13.0853, 80.2100, 10)\n",
        "}\n",
        "\n",
        "\n",
        "fresh_map = folium.Map(location=[13.0524, 80.2035], zoom_start=12)\n",
        "\n",
        "# Add lender markers for each location\n",
        "for location, (lat, lon, count) in lender_locations_updated.items():\n",
        "    for i in range(count):\n",
        "        # Randomize coordinates slightly to distribute markers within the area\n",
        "        lender_lat = lat + random.uniform(-0.005, 0.005)\n",
        "        lender_lon = lon + random.uniform(-0.005, 0.005)\n",
        "        folium.Marker(\n",
        "            location=[lender_lat, lender_lon],\n",
        "            popup=f\"Lender {i+1} in {location}\",\n",
        "            icon=folium.Icon(color=\"blue\", icon=\"bolt\", prefix=\"fa\")\n",
        "        ).add_to(fresh_map)\n",
        "\n",
        "# Save the new updated map as an HTML file\n",
        "fresh_map_path = \"/content/updated_ev_charging_map.html\"\n",
        "fresh_map.save(fresh_map_path)\n",
        "\n",
        "# Provide confirmation\n",
        "print(f\"Fresh map with updated lender locations saved at: {fresh_map_path}\")\n"
      ],
      "metadata": {
        "colab": {
          "base_uri": "https://localhost:8080/"
        },
        "id": "ZYueDjHZFQ4S",
        "outputId": "ffa786cd-d1c1-4b9a-8e24-edaa93f400d9"
      },
      "execution_count": 12,
      "outputs": [
        {
          "output_type": "stream",
          "name": "stdout",
          "text": [
            "Fresh map with updated lender locations saved at: /content/updated_ev_charging_map.html\n"
          ]
        }
      ]
    }
  ]
}